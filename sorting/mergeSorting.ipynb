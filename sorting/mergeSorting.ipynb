{
 "cells": [
  {
   "cell_type": "code",
   "execution_count": 22,
   "metadata": {},
   "outputs": [],
   "source": [
    "def merge(array1, array2):\n",
    "    output = []\n",
    "    i = j = 0\n",
    "\n",
    "    # merge two sorted arrays\n",
    "    while i < len(array1) and j < len(array2):\n",
    "        if (array1[i] < array2[j]):\n",
    "            output.append(array1[i])\n",
    "            i += 1\n",
    "        else:\n",
    "            output.append(array2[j])\n",
    "            j += 1\n",
    "\n",
    "    # append remaining elements from both arrays\n",
    "    output.extend(array1[i:])\n",
    "    output.extend(array2[j:])\n",
    "\n",
    "    return output"
   ]
  },
  {
   "cell_type": "code",
   "execution_count": 35,
   "metadata": {},
   "outputs": [],
   "source": [
    "def merge_sorting(array):\n",
    "    if len(array) == 1: return array # array has one element\n",
    "    \n",
    "    left_array  = merge_sorting(array[:len(array) // 2])\n",
    "    right_array = merge_sorting(array[len(array) // 2:])\n",
    "\n",
    "    print(f\"Left: {left_array}, Right: {right_array}\")\n",
    "    print(\"merged array: \", merge(left_array, right_array))\n",
    "\n",
    "    return merge(left_array, right_array)"
   ]
  },
  {
   "cell_type": "code",
   "execution_count": 36,
   "metadata": {},
   "outputs": [
    {
     "name": "stdout",
     "output_type": "stream",
     "text": [
      "Left: [6], Right: [3]\n",
      "merged array:  [3, 6]\n",
      "Left: [5], Right: [3, 6]\n",
      "merged array:  [3, 5, 6]\n",
      "Left: [8], Right: [9]\n",
      "merged array:  [8, 9]\n",
      "Left: [7], Right: [8, 9]\n",
      "merged array:  [7, 8, 9]\n",
      "Left: [3, 5, 6], Right: [7, 8, 9]\n",
      "merged array:  [3, 5, 6, 7, 8, 9]\n"
     ]
    },
    {
     "data": {
      "text/plain": [
       "[3, 5, 6, 7, 8, 9]"
      ]
     },
     "execution_count": 36,
     "metadata": {},
     "output_type": "execute_result"
    }
   ],
   "source": [
    "merge_sorting([5,6,3,7,8,9])"
   ]
  },
  {
   "cell_type": "code",
   "execution_count": null,
   "metadata": {},
   "outputs": [],
   "source": []
  }
 ],
 "metadata": {
  "kernelspec": {
   "display_name": "base",
   "language": "python",
   "name": "python3"
  },
  "language_info": {
   "codemirror_mode": {
    "name": "ipython",
    "version": 3
   },
   "file_extension": ".py",
   "mimetype": "text/x-python",
   "name": "python",
   "nbconvert_exporter": "python",
   "pygments_lexer": "ipython3",
   "version": "3.12.4"
  }
 },
 "nbformat": 4,
 "nbformat_minor": 2
}
