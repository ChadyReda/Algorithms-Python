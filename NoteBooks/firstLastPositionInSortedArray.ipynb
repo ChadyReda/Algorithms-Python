{
 "cells": [
  {
   "cell_type": "code",
   "execution_count": 2,
   "id": "0d029317-821f-4786-919a-2977fbde3553",
   "metadata": {},
   "outputs": [
    {
     "data": {
      "application/javascript": "if (window.IPython && IPython.notebook.kernel) IPython.notebook.kernel.execute('jovian.utils.jupyter.get_notebook_name_saved = lambda: \"' + IPython.notebook.notebook_name + '\"')",
      "text/plain": [
       "<IPython.core.display.Javascript object>"
      ]
     },
     "metadata": {},
     "output_type": "display_data"
    }
   ],
   "source": [
    "import jovian"
   ]
  },
  {
   "cell_type": "code",
   "execution_count": 3,
   "id": "50496429-75c5-4770-8d31-4657fff4c942",
   "metadata": {},
   "outputs": [],
   "source": [
    "def binary_search(lo, hi, condition):\n",
    "    while lo <= hi:\n",
    "        mid = (lo + hi) // 2\n",
    "        result = condition(mid)\n",
    "        match result:\n",
    "            case 'left':\n",
    "                hi = mid - 1\n",
    "            case 'right':\n",
    "                lo = mid + 1\n",
    "            case 'found':\n",
    "                return mid\n",
    "\n",
    "\n",
    "def first_position(elements, target):\n",
    "    def condition(mid):\n",
    "        if elements[mid] == target:\n",
    "            if mid > 0 and elements[mid - 1] == target:\n",
    "                return 'left'\n",
    "            else: \n",
    "                return 'found'\n",
    "        elif elements[mid] > target:\n",
    "            return 'right'\n",
    "        else:\n",
    "            return 'left'\n",
    "    return binary_search(0, len(elements) - 1, condition)\n",
    "\n",
    "\n",
    "def last_position(elements, target):\n",
    "    def condition(mid):\n",
    "        if elements[mid] == target:\n",
    "            if mid < len(elements) - 1 and elements[mid + 1] == target:\n",
    "                return 'right'\n",
    "            else:\n",
    "                return 'found'\n",
    "        elif elements[mid] < target:\n",
    "            return 'left'\n",
    "        else:\n",
    "            return 'right'\n",
    "    return binary_search(0, len(elements) - 1, condition)\n",
    "\n",
    "\n",
    "def evaluate_function(elements, target):\n",
    "    return first_position(elements, target), last_position(elements, target)"
   ]
  },
  {
   "cell_type": "code",
   "execution_count": 4,
   "id": "f9c851ad-d757-462d-9a5e-c42b1699517e",
   "metadata": {},
   "outputs": [
    {
     "data": {
      "text/plain": [
       "(4, 9)"
      ]
     },
     "execution_count": 4,
     "metadata": {},
     "output_type": "execute_result"
    }
   ],
   "source": [
    "evaluate_function([10, 9, 7, 6, 3, 3, 3, 3, 3, 3, 2, 0], 3)"
   ]
  },
  {
   "cell_type": "code",
   "execution_count": 29,
   "id": "376bb232-e33c-4d18-9b45-a149ba608708",
   "metadata": {},
   "outputs": [
    {
     "data": {
      "application/javascript": "window.require && require([\"base/js/namespace\"],function(Jupyter){Jupyter.notebook.save_checkpoint()})",
      "text/plain": [
       "<IPython.core.display.Javascript object>"
      ]
     },
     "metadata": {},
     "output_type": "display_data"
    },
    {
     "name": "stdout",
     "output_type": "stream",
     "text": [
      "[jovian] Committed successfully! https://jovian.com/chadyxreda/firstlastpositioninsortedarray\u001b[0m\n"
     ]
    },
    {
     "data": {
      "text/plain": [
       "'https://jovian.com/chadyxreda/firstlastpositioninsortedarray'"
      ]
     },
     "execution_count": 29,
     "metadata": {},
     "output_type": "execute_result"
    }
   ],
   "source": [
    "jovian.commit(filename='firstLastPositionInSortedArray')"
   ]
  }
 ],
 "metadata": {
  "kernelspec": {
   "display_name": "base",
   "language": "python",
   "name": "python3"
  },
  "language_info": {
   "codemirror_mode": {
    "name": "ipython",
    "version": 3
   },
   "file_extension": ".py",
   "mimetype": "text/x-python",
   "name": "python",
   "nbconvert_exporter": "python",
   "pygments_lexer": "ipython3",
   "version": "3.12.4"
  }
 },
 "nbformat": 4,
 "nbformat_minor": 5
}
