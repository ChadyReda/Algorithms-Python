{
 "cells": [
  {
   "cell_type": "code",
   "execution_count": 2,
   "id": "777c0668-6dd5-40f8-8610-93731601e038",
   "metadata": {},
   "outputs": [],
   "source": [
    "# we have a list of numbers that was rotated a certain number of times we need to know how many times\n",
    "#     that list has beed rotated assuming that the numbers in the list are unique\n",
    "# avoiding any brute force solution this algorithm must be a O(logn) complexity\n",
    "# input: list of numbers of a rotated array (nums)\n",
    "# output: number of rotations that the array has been to"
   ]
  },
  {
   "cell_type": "code",
   "execution_count": 20,
   "id": "9c0ea624-1cb4-45f9-ba68-2ea011a64b33",
   "metadata": {},
   "outputs": [],
   "source": [
    "def count_rotations_linear(nums):\n",
    "    position = 0\n",
    "    while position < len(nums) - 1:\n",
    "        if nums[position] < nums[position + 1]:\n",
    "            return position + 1\n",
    "        position += 1\n",
    "    return 0"
   ]
  },
  {
   "cell_type": "code",
   "execution_count": 14,
   "id": "c6b4f480-a086-4469-b38c-8da18e03b663",
   "metadata": {},
   "outputs": [],
   "source": [
    "tests = []\n",
    "\n",
    "\n",
    "# normal test case\n",
    "tests.append({\n",
    "    'input':{\n",
    "        'nums': [7, 5, 3, 1],\n",
    "        'rotated': [3, 1, 7, 5]\n",
    "    },\n",
    "    'output': 2\n",
    "})\n"
   ]
  },
  {
   "cell_type": "code",
   "execution_count": 23,
   "id": "e4069e8a",
   "metadata": {},
   "outputs": [
    {
     "data": {
      "text/plain": [
       "0"
      ]
     },
     "execution_count": 23,
     "metadata": {},
     "output_type": "execute_result"
    }
   ],
   "source": [
    "count_rotations_linear(tests[0]['input']['rotated'])"
   ]
  },
  {
   "cell_type": "code",
   "execution_count": null,
   "id": "ddcedfbb",
   "metadata": {},
   "outputs": [],
   "source": []
  }
 ],
 "metadata": {
  "kernelspec": {
   "display_name": "base",
   "language": "python",
   "name": "python3"
  },
  "language_info": {
   "codemirror_mode": {
    "name": "ipython",
    "version": 3
   },
   "file_extension": ".py",
   "mimetype": "text/x-python",
   "name": "python",
   "nbconvert_exporter": "python",
   "pygments_lexer": "ipython3",
   "version": "3.12.4"
  }
 },
 "nbformat": 4,
 "nbformat_minor": 5
}
