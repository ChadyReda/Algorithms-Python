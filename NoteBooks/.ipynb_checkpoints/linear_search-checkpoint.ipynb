{
 "cells": [
  {
   "cell_type": "code",
   "execution_count": 61,
   "id": "79bdde53-1137-4ba7-ac57-5669ea455ba5",
   "metadata": {},
   "outputs": [
    {
     "data": {
      "application/javascript": [
       "if (window.IPython && IPython.notebook.kernel) IPython.notebook.kernel.execute('jovian.utils.jupyter.get_notebook_name_saved = lambda: \"' + IPython.notebook.notebook_name + '\"')"
      ],
      "text/plain": [
       "<IPython.core.display.Javascript object>"
      ]
     },
     "metadata": {},
     "output_type": "display_data"
    }
   ],
   "source": [
    "import math\n",
    "import time\n",
    "import jovian"
   ]
  },
  {
   "cell_type": "code",
   "execution_count": 57,
   "id": "139500d1-2704-4482-9ff4-13f5438a4526",
   "metadata": {},
   "outputs": [],
   "source": [
    "# O(n) complexity\n",
    "def locate_card (cards, query):\n",
    "    # initialize a counter\n",
    "    position = 0\n",
    "    while position < len(cards):\n",
    "        \n",
    "        # check if the array is empty\n",
    "        if len(cards) == 0:\n",
    "            return -1\n",
    "            \n",
    "        # check if the element at the current position is equal to the query\n",
    "        if cards[position] == query:\n",
    "            return position \n",
    "\n",
    "        # increment the position\n",
    "        position += 1\n",
    "    # the card is not found\n",
    "    return -1 \n",
    "\n",
    "def evaluate_test (validate_func, tests):\n",
    "    id = 1\n",
    "    for test in tests:\n",
    "        start = time.perf_counter()\n",
    "        #print('Input:\\n', test)\n",
    "        print('Test Number: ', id)\n",
    "        print('Expected Output:\\n', test['output'])\n",
    "        result = validate_func(test['input']['cards'], test['input']['query'])\n",
    "        print('Actual Output:\\n', result)\n",
    "        status = 'Passed' if result == test['output'] else 'Failed'\n",
    "        stop = time.perf_counter()\n",
    "        print('Execution Time:\\n', stop - start, 'seconds')\n",
    "        print('Test Result:\\n', status)   \n",
    "        print('---------------------------------------')\n",
    "        id += 1"
   ]
  },
  {
   "cell_type": "code",
   "execution_count": 55,
   "id": "7c8a8e69-53dd-4f63-bb27-272e2d2a93a0",
   "metadata": {},
   "outputs": [],
   "source": [
    "# writing some possible eage-cases\n",
    "tests = []\n",
    "\n",
    "# query occurs in the middle\n",
    "tests.append({\n",
    "    'input': {\n",
    "        'cards': [13, 11, 10, 7, 4, 3, 1, 0],\n",
    "        'query': 7\n",
    "    },\n",
    "    'output': 3\n",
    "})\n",
    "\n",
    "# query insthe first time\n",
    "tests.append({\n",
    "    'input': {\n",
    "        'cards': [4, 2, 1, -1],\n",
    "        'query': 4\n",
    "    },\n",
    "    'output': 0\n",
    "})\n",
    "\n",
    "# query is the last element\n",
    "tests.append({\n",
    "    'input': {\n",
    "        'cards': [3, -1, -9, -127],\n",
    "        'query': -127\n",
    "    },\n",
    "    'output': 3\n",
    "})\n",
    "\n",
    "# cards contains just one element, query\n",
    "tests.append({\n",
    "    'input': {\n",
    "        'cards': [6],\n",
    "        'query': 6\n",
    "    },\n",
    "    'output': 0 \n",
    "})\n",
    "\n",
    "# cards does not contain query \n",
    "tests.append({\n",
    "    'input': {\n",
    "        'cards': [9, 7, 5, 2, -9],\n",
    "        'query': 4\n",
    "    },\n",
    "    'output': -1\n",
    "})\n",
    "\n",
    "# cards is empty\n",
    "tests.append({\n",
    "    'input': {\n",
    "        'cards': [],\n",
    "        'query': 7\n",
    "    },\n",
    "    'output': -1\n",
    "})\n",
    "\n",
    "# numbers can repeat in cards\n",
    "tests.append({\n",
    "    'input': {\n",
    "        'cards': [8, 8, 6, 6, 6, 6, 6, 3, 2, 2, 2, 0, 0, 0],\n",
    "        'query': 3\n",
    "    },\n",
    "    'output': 7\n",
    "})\n",
    "\n",
    "# query occurs multiple times\n",
    "tests.append({\n",
    "    'input': {\n",
    "        'cards': [8, 8, 6, 6, 6, 6, 6, 6, 3, 2, 2, 2, 0, 0, 0],\n",
    "        'query': 6\n",
    "    },\n",
    "    'output': 2\n",
    "})\n",
    "\n",
    "# large test worst case\n",
    "tests.append({\n",
    "    'input': {\n",
    "        'cards': list(range(100000000, 0, -1)), # 100 million element\n",
    "        'query': 2\n",
    "    },\n",
    "    'output': 99999998\n",
    "})"
   ]
  },
  {
   "cell_type": "code",
   "execution_count": 59,
   "id": "7007f863-0db9-44ef-baeb-3f50b9ea76ac",
   "metadata": {},
   "outputs": [
    {
     "name": "stdout",
     "output_type": "stream",
     "text": [
      "Test Number:  1\n",
      "Expected Output:\n",
      " 3\n",
      "Actual Output:\n",
      " 3\n",
      "Execution Time:\n",
      " 9.519999730400741e-05 seconds\n",
      "Test Result:\n",
      " Passed\n",
      "---------------------------------------\n",
      "Test Number:  2\n",
      "Expected Output:\n",
      " 0\n",
      "Actual Output:\n",
      " 0\n",
      "Execution Time:\n",
      " 3.4200013033114374e-05 seconds\n",
      "Test Result:\n",
      " Passed\n",
      "---------------------------------------\n",
      "Test Number:  3\n",
      "Expected Output:\n",
      " 3\n",
      "Actual Output:\n",
      " 3\n",
      "Execution Time:\n",
      " 3.340000694151968e-05 seconds\n",
      "Test Result:\n",
      " Passed\n",
      "---------------------------------------\n",
      "Test Number:  4\n",
      "Expected Output:\n",
      " 0\n",
      "Actual Output:\n",
      " 0\n",
      "Execution Time:\n",
      " 3.0399998649954796e-05 seconds\n",
      "Test Result:\n",
      " Passed\n",
      "---------------------------------------\n",
      "Test Number:  5\n",
      "Expected Output:\n",
      " -1\n",
      "Actual Output:\n",
      " -1\n",
      "Execution Time:\n",
      " 3.160000778734684e-05 seconds\n",
      "Test Result:\n",
      " Passed\n",
      "---------------------------------------\n",
      "Test Number:  6\n",
      "Expected Output:\n",
      " -1\n",
      "Actual Output:\n",
      " -1\n",
      "Execution Time:\n",
      " 3.0100010917522013e-05 seconds\n",
      "Test Result:\n",
      " Passed\n",
      "---------------------------------------\n",
      "Test Number:  7\n",
      "Expected Output:\n",
      " 7\n",
      "Actual Output:\n",
      " 7\n",
      "Execution Time:\n",
      " 3.1499992473982275e-05 seconds\n",
      "Test Result:\n",
      " Passed\n",
      "---------------------------------------\n",
      "Test Number:  8\n",
      "Expected Output:\n",
      " 2\n",
      "Actual Output:\n",
      " 2\n",
      "Execution Time:\n",
      " 2.9699993319809437e-05 seconds\n",
      "Test Result:\n",
      " Passed\n",
      "---------------------------------------\n",
      "Test Number:  9\n",
      "Expected Output:\n",
      " 99999998\n",
      "Actual Output:\n",
      " 99999998\n",
      "Execution Time:\n",
      " 20.36787390000245 seconds\n",
      "Test Result:\n",
      " Passed\n",
      "---------------------------------------\n"
     ]
    }
   ],
   "source": [
    "evaluate_test(locate_card, tests)"
   ]
  },
  {
   "cell_type": "code",
   "execution_count": 63,
   "id": "c6635a96-5d06-4ba2-9829-756b9a4c5b11",
   "metadata": {},
   "outputs": [
    {
     "data": {
      "application/javascript": [
       "window.require && require([\"base/js/namespace\"],function(Jupyter){Jupyter.notebook.save_checkpoint()})"
      ],
      "text/plain": [
       "<IPython.core.display.Javascript object>"
      ]
     },
     "metadata": {},
     "output_type": "display_data"
    },
    {
     "name": "stdout",
     "output_type": "stream",
     "text": [
      "[jovian] Committed successfully! https://jovian.com/chadyxreda/linear-search\u001b[0m\n"
     ]
    },
    {
     "data": {
      "text/plain": [
       "'https://jovian.com/chadyxreda/linear-search'"
      ]
     },
     "execution_count": 63,
     "metadata": {},
     "output_type": "execute_result"
    }
   ],
   "source": [
    "jovian.commit(filename='linear_search.ipynb')"
   ]
  },
  {
   "cell_type": "code",
   "execution_count": null,
   "id": "1ea71d0b-f43b-47a1-8cf5-39ea95ef55b9",
   "metadata": {},
   "outputs": [],
   "source": []
  }
 ],
 "metadata": {
  "kernelspec": {
   "display_name": "Python 3 (ipykernel)",
   "language": "python",
   "name": "python3"
  },
  "language_info": {
   "codemirror_mode": {
    "name": "ipython",
    "version": 3
   },
   "file_extension": ".py",
   "mimetype": "text/x-python",
   "name": "python",
   "nbconvert_exporter": "python",
   "pygments_lexer": "ipython3",
   "version": "3.12.4"
  }
 },
 "nbformat": 4,
 "nbformat_minor": 5
}
