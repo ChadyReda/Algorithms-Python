{
 "cells": [
  {
   "cell_type": "code",
   "execution_count": 3,
   "id": "777c0668-6dd5-40f8-8610-93731601e038",
   "metadata": {},
   "outputs": [],
   "source": [
    "# we have a list of numbers that was rotated a certain number of times we need to know how many times\n",
    "#     that list has beed rotated assuming that the numbers in the list are unique\n",
    "# avoiding any brute force solution this algorithm must be a O(logn) complexity\n",
    "# input: list of numbers of a rotated array (nums)\n",
    "# output: number of rotations that the array has been to"
   ]
  },
  {
   "cell_type": "code",
   "execution_count": 5,
   "id": "9c0ea624-1cb4-45f9-ba68-2ea011a64b33",
   "metadata": {},
   "outputs": [],
   "source": [
    "def count_rotations(nums):\n",
    "    pass"
   ]
  },
  {
   "cell_type": "code",
   "execution_count": null,
   "id": "c6b4f480-a086-4469-b38c-8da18e03b663",
   "metadata": {},
   "outputs": [],
   "source": []
  }
 ],
 "metadata": {
  "kernelspec": {
   "display_name": "Python 3 (ipykernel)",
   "language": "python",
   "name": "python3"
  },
  "language_info": {
   "codemirror_mode": {
    "name": "ipython",
    "version": 3
   },
   "file_extension": ".py",
   "mimetype": "text/x-python",
   "name": "python",
   "nbconvert_exporter": "python",
   "pygments_lexer": "ipython3",
   "version": "3.12.4"
  }
 },
 "nbformat": 4,
 "nbformat_minor": 5
}
